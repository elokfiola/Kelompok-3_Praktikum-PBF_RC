{
  "nbformat": 4,
  "nbformat_minor": 0,
  "metadata": {
    "colab": {
      "provenance": []
    },
    "kernelspec": {
      "name": "python3",
      "display_name": "Python 3"
    },
    "language_info": {
      "name": "python"
    }
  },
  "cells": [
    {
      "cell_type": "code",
      "execution_count": null,
      "metadata": {
        "id": "PE4jh9TG59ty"
      },
      "outputs": [],
      "source": [
        "from functools import reduce\n",
        "\n",
        "# Menampilkan instruksi perintah untuk pengguna\n",
        "print(\"PAPAN PENGHITUNG SKOR PERTANDINGAN BADMINTON\")\n",
        "print(\"\\nCara Penggunaan:\")\n",
        "print(\"Masukkan skor tambahan\")\n",
        "print(\"'A' untuk Tim A\")\n",
        "print(\"'B' untuk Tim B\")\n",
        "print(\"'selesai' untuk mengakhiri\")\n",
        "print(\"\")\n",
        "\n",
        "# Lambda Functions\n",
        "hitung_skor = lambda poin: reduce(lambda a, b: (a[0] + 1, a[1]) if b == 'A' else (a[0], a[1] + 1), poin, (0, 0))\n",
        "cek_kemenangan = lambda skors, maks_skor, nama_tim_A, nama_tim_B: \\\n",
        "    nama_tim_A if skors[0] >= maks_skor else (nama_tim_B if skors[1] >= maks_skor else None)\n",
        "\n",
        "def main():\n",
        "    nama_tim_A = input(\"Masukkan nama tim A: \")\n",
        "    nama_tim_B = input(\"Masukkan nama tim B: \")\n",
        "    print()\n",
        "    maksimal_skor = 21\n",
        "    poin_pertandingan = []\n",
        "\n",
        "    while True:\n",
        "        tambahan_skor = input(f\"Masukkan skor tambahan ('A' / 'B'), atau 'selesai' untuk mengakhiri): \").upper()\n",
        "        if tambahan_skor == 'A' or tambahan_skor == 'B':\n",
        "            poin_pertandingan.append(tambahan_skor)\n",
        "            skor_akhir = hitung_skor(poin_pertandingan)\n",
        "            if skor_akhir[0] >= maksimal_skor or skor_akhir[1] >= maksimal_skor:\n",
        "                break\n",
        "        elif tambahan_skor == 'SELESAI':\n",
        "            break\n",
        "        else:\n",
        "            print(\"Masukkan tidak valid. Silakan masukkan 'A', 'B', atau 'selesai'.\")\n",
        "\n",
        "    print(\"\\nSkor Akhir Pertandingan:\")\n",
        "    print(f\"[{nama_tim_A}: {skor_akhir[0]}, {nama_tim_B}: {skor_akhir[1]}]\")\n",
        "\n",
        "    pemenang = cek_kemenangan(skor_akhir, maksimal_skor, nama_tim_A, nama_tim_B)\n",
        "    if pemenang:\n",
        "        print(\"\\nTim\", pemenang, \"memenangkan pertandingan badminton!\")\n",
        "        print(f\"Dengan skor akhir [{skor_akhir[0]}, {skor_akhir[1]}]\")\n",
        "    else:\n",
        "        print(\"Pertandingan belum selesai.\")\n",
        "\n",
        "if __name__ == \"__main__\":\n",
        "    main()"
      ]
    }
  ]
}