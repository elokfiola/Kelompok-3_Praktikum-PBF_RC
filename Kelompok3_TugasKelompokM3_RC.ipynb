{
  "nbformat": 4,
  "nbformat_minor": 0,
  "metadata": {
    "colab": {
      "provenance": []
    },
    "kernelspec": {
      "name": "python3",
      "display_name": "Python 3"
    },
    "language_info": {
      "name": "python"
    }
  },
  "cells": [
    {
      "cell_type": "markdown",
      "source": [
        "# Tugas Kelompok Praktikum PBF Modul 3"
      ],
      "metadata": {
        "id": "ipDAvwTzg8ou"
      }
    },
    {
      "cell_type": "markdown",
      "source": [
        "## Praktikum PBF RC | Kelompok 3\n",
        "1.   Elok Fiola_122450051\n",
        "2.   Vira Putri Maharani_122450129\n",
        "3.   Rani Puspita Sari_122450030\n",
        "4.   ⁠Diana syafithri 122450141\n",
        "5.   Hermawan Manurung 122450069\n",
        "6.   ⁠Jihan Putri Yani_121450161"
      ],
      "metadata": {
        "id": "X9bDMGOphGse"
      }
    },
    {
      "cell_type": "markdown",
      "source": [
        "### Program Menghitung Varians dan Standar Deviasi\n",
        "Implementasikan fungsi untuk menghitung\n",
        "varians dan standar deviasi dari sebuah dataset.\n"
      ],
      "metadata": {
        "id": "EJ7s8S13hdHr"
      }
    },
    {
      "cell_type": "code",
      "source": [
        "import pandas as pd\n",
        "\n",
        "def mean(data):\n",
        "    return sum(data) / len(data)\n",
        "\n",
        "def variance(data):\n",
        "    mu = mean(data)\n",
        "    return sum((x - mu) ** 2 for x in data) / (len(data) - 1)\n",
        "\n",
        "def standard_deviation(data):\n",
        "    return variance(data) ** 0.5\n",
        "\n",
        "def clean_data(df):\n",
        "    # Lakukan pembersihan data di sini sesuai kebutuhan\n",
        "    df.dropna(inplace=True)  # Menghapus baris dengan nilai kosong\n",
        "    return df\n",
        "\n",
        "def read_csv_data(filename):\n",
        "    try:\n",
        "        df = pd.read_csv(filename)\n",
        "        return df, None, filename\n",
        "    except FileNotFoundError:\n",
        "        return None, \"File tidak ditemukan. Pastikan Anda memasukkan nama file yang benar.\", None\n",
        "\n",
        "# Penggunaan:\n",
        "print(\"Silakan unggah file Anda dalam bentuk file.csv\")\n",
        "filename = input(\"Masukkan nama file CSV Anda: \")\n",
        "\n",
        "df, error_message, file_name = read_csv_data(filename)\n",
        "if error_message:\n",
        "    print(error_message)\n",
        "else:\n",
        "    print(\"File CSV '{}' berhasil dibaca.\".format(file_name))\n",
        "    column_name = input(\"Masukkan nama label kolom yang ingin dianalisis: \")\n",
        "    if column_name in df.columns:\n",
        "        # Membersihkan data sebelum melakukan perhitungan\n",
        "        df_cleaned = clean_data(df)\n",
        "\n",
        "        if len(df) != len(df_cleaned):\n",
        "            print(\"Data Anda telah dibersihkan.\")\n",
        "        else:\n",
        "            print(\"Data Anda lengkap.\")\n",
        "\n",
        "        data = df_cleaned[column_name].tolist()\n",
        "        banyak_data = len(data)\n",
        "        print(\"\\nDataset untuk kolom '{}':\".format(column_name), data)\n",
        "\n",
        "        result_table = [[\"Nama File\", file_name],\n",
        "                        [\"Banyak Data\", banyak_data],\n",
        "                        [\"Varians\", variance(data)],\n",
        "                        [\"Standar Deviasi\", standard_deviation(data)]]\n",
        "        print(\"\\nHasil Perhitungan\")\n",
        "        for row in result_table:\n",
        "            print(row[0], \":\", row[1])\n",
        "    else:\n",
        "        print(\"Label kolom '{}' tidak ditemukan dalam dataset.\".format(column_name))\n"
      ],
      "metadata": {
        "colab": {
          "base_uri": "https://localhost:8080/"
        },
        "id": "JJZdqI_mBuVL",
        "outputId": "47c706c4-0347-41f6-e57a-72934f9d0c04"
      },
      "execution_count": 21,
      "outputs": [
        {
          "output_type": "stream",
          "name": "stdout",
          "text": [
            "Silakan unggah file Anda dalam bentuk file.csv\n",
            "Masukkan nama file CSV Anda: Rata-rata Jam Tidur Harian SD2022.csv\n",
            "File CSV 'Rata-rata Jam Tidur Harian SD2022.csv' berhasil dibaca.\n",
            "Masukkan nama label kolom yang ingin dianalisis: Rata-rata Jam Tidur\n",
            "Data Anda lengkap.\n",
            "\n",
            "Dataset untuk kolom 'Rata-rata Jam Tidur': [9.0, 6.0, 4.0, 6.0, 5.0, 6.0, 5.0, 5.0, 8.0, 6.0, 5.0, 6.0, 5.5, 6.0, 6.5, 5.0, 5.0, 6.0, 6.0, 7.0, 7.0, 6.0, 6.0, 6.0, 6.0, 5.5, 6.0, 5.0, 6.0, 5.5]\n",
            "\n",
            "Hasil Perhitungan\n",
            "Nama File : Rata-rata Jam Tidur Harian SD2022.csv\n",
            "Banyak Data : 30\n",
            "Varians : 0.9206896551724146\n",
            "Standar Deviasi : 0.9595257449242384\n"
          ]
        }
      ]
    },
    {
      "cell_type": "markdown",
      "source": [
        "Pada percoban program ini kami menggunakan data primer. Data Rata-rata Jam Tidur Harian SD2022 merupakan dataset yang berisi 3 kolom dam 30 baris data. Dataset ini dikumpulkan menggunakan metode survei melalui Google Formulir. Subjek penelitiannya adalah Mahasiswa Sains Data Institut Teknologi Sumatera (ITERA) Angkatan 2022. Sampel yang didapatkan sebanyak 30 mahasiswa dimana mereka setuju jika data mereka dipublik. Data lengkap dapat diakses pada tautan berikut: https://github.com/elokfiola/Kelompok_3_RC_Praktikum_PBF/blob/0a3a28a676eb16a6bd39f137cb53b2ddb364e9a7/Rata-rata%20Jam%20Tidur%20Harian%20SD2022.csv"
      ],
      "metadata": {
        "id": "e6g8LrQ3nqS8"
      }
    },
    {
      "cell_type": "code",
      "source": [],
      "metadata": {
        "id": "HvQdopheoDWP"
      },
      "execution_count": null,
      "outputs": []
    }
  ]
}