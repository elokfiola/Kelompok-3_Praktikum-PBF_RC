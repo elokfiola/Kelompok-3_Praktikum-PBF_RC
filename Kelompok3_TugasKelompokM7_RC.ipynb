{
  "cells": [
    {
      "cell_type": "markdown",
      "metadata": {
        "id": "eOhf9eJus3bT"
      },
      "source": [
        "# Tugas Kelompok 3 PBF RC"
      ]
    },
    {
      "cell_type": "markdown",
      "metadata": {
        "id": "hJZq6XD2s3bU"
      },
      "source": [
        "Download data disini :"
      ]
    },
    {
      "cell_type": "markdown",
      "metadata": {
        "id": "DVQoLBpbs3bU"
      },
      "source": [
        "https://drive.google.com/file/d/1yRYkjsF9CuC4RXueZQCHuJnXRSXliBjS/view?usp=sharing"
      ]
    },
    {
      "cell_type": "markdown",
      "metadata": {
        "id": "iNkPGknMs3bU"
      },
      "source": [
        "Langkah dalam menyelesaikan tugas ini adalah:\n",
        "\n",
        "* Buatlah terlebih dahulu list dictionary yang kosong\n",
        "\n",
        "* Buatlah looping untuk melakukan kalkulasi dengan fungsi Map atau Filter atau Reduce kemudian simpan ke dalam list dictionary yang sudah di definisikan"
      ]
    },
    {
      "cell_type": "markdown",
      "metadata": {
        "id": "JPxxFdLVs3bV"
      },
      "source": [
        "Bagian 1: Model Populasi Polisi Detroit\n",
        "\n",
        "Baca data dari file Laporan Polisi Detroit menggunakan modul csv dan terjemahkan data ke dalam daftar dictionary. Menggunakan Filter dengan fungsi lambda untuk mengecualikan dictionary (baris CSV) yang memiliki data yang hilang di kolom Zip, atau kolom Neighborhood. Dengan menggunakan fungsi lambda dan Reduce, hitung total waktu respons rata-rata, waktu pengiriman rata-rata, dan total waktu rata-rata untuk kepolisian Detroit."
      ]
    },
    {
      "cell_type": "markdown",
      "metadata": {
        "id": "tLNcQ7-7s3bV"
      },
      "source": [
        "Bagian 2: Modelkan Neighborhood Samples\n",
        "\n",
        "Menggunakan fungsi lambda dan map, atau lambda dan Filter, bagi list dictionary menjadi list dictionary yang lebih kecil yang dipisahkan oleh neighborhood. Dengan menggunakan lambda dan Reduce, temukan total waktu respons rata-rata untuk setiap neighborhood, waktu pengiriman rata-rata untuk setiap neighborhood, dan total waktu rata-rata untuk setiap neighborhood dan simpanlah ke dalam list dictionary. Tambahkan item dictioanary untuk menyertakan data populasi untuk semua Detroit dalam daftar gabungan Anda."
      ]
    },
    {
      "cell_type": "markdown",
      "metadata": {
        "id": "58Ynln8Vs3bW"
      },
      "source": [
        "Bagian 3: Buat file Output JSON\n",
        "\n",
        "Menggunakan modul JSON, format list dictionary Anda sebagai JSON"
      ]
    },
    {
      "cell_type": "code",
      "source": [
        "# List dictionary kosong untuk menyimpan data\n",
        "list_dictionary = []"
      ],
      "metadata": {
        "id": "5tc5JSi-u0eI"
      },
      "execution_count": 3,
      "outputs": []
    },
    {
      "cell_type": "code",
      "source": [
        "import csv\n",
        "import sys\n",
        "from functools import reduce\n",
        "\n",
        "# Fungsi untuk membaca data dari file CSV dan menerjemahkannya ke dalam daftar dictionary\n",
        "def baca_data(file_path):\n",
        "    with open(file_path, newline='', encoding='utf-8') as csvfile:\n",
        "        reader = csv.DictReader(csvfile)\n",
        "        data_list = [row for row in reader]\n",
        "    return data_list\n",
        "\n",
        "# Minta pengguna untuk memasukkan nama file CSV\n",
        "file_path = input(\"Masukkan nama file CSV: \")\n",
        "\n",
        "# Baca data dari file CSV dan menerjemahkannya ke dalam daftar dictionary\n",
        "data_polisi_detroit = baca_data(file_path)"
      ],
      "metadata": {
        "id": "XPwlR2Wqwlaf",
        "colab": {
          "base_uri": "https://localhost:8080/"
        },
        "outputId": "8f096565-7a1e-4736-9e6b-609a0bc7796d"
      },
      "execution_count": 3,
      "outputs": [
        {
          "name": "stdout",
          "output_type": "stream",
          "text": [
            "Masukkan nama file CSV: 911_Calls_for_Service_(Last_30_Days).csv\n"
          ]
        }
      ]
    },
    {
      "cell_type": "code",
      "source": [
        "# Fungsi untuk menghitung total respons time dari suatu data\n",
        "def hitung_total_respons(data):\n",
        "    total_respons_time = data['totalresponsetime']\n",
        "    return float(total_respons_time) if total_respons_time else 0.0\n",
        "\n",
        "# Melakukan kalkulasi menggunakan fungsi map\n",
        "total_respons_per_data = list(map(hitung_total_respons, data_polisi_detroit))\n",
        "\n",
        "# Simpan hasil ke dalam list dictionary\n",
        "for index, data in enumerate(data_polisi_detroit):\n",
        "    list_dictionary.append({\n",
        "        'index': index,\n",
        "        'total_respons': total_respons_per_data[index]\n",
        "    })\n",
        "\n",
        "# Tampilkan hasil\n",
        "print(list_dictionary)"
      ],
      "metadata": {
        "colab": {
          "base_uri": "https://localhost:8080/"
        },
        "id": "I5-v8zb_drmK",
        "outputId": "a38c1511-b96e-4850-fb1c-91b099594896"
      },
      "execution_count": 5,
      "outputs": [
        {
          "output_type": "stream",
          "name": "stderr",
          "text": [
            "IOPub data rate exceeded.\n",
            "The notebook server will temporarily stop sending output\n",
            "to the client in order to avoid crashing it.\n",
            "To change this limit, set the config variable\n",
            "`--NotebookApp.iopub_data_rate_limit`.\n",
            "\n",
            "Current values:\n",
            "NotebookApp.iopub_data_rate_limit=1000000.0 (bytes/sec)\n",
            "NotebookApp.rate_limit_window=3.0 (secs)\n",
            "\n"
          ]
        }
      ]
    },
    {
      "cell_type": "code",
      "source": [
        "#Bagian 1: Model Populasi Polisi Detroit\n",
        "\n",
        "# Filter untuk mengecualikan baris dengan data yang hilang di kolom Zip atau kolom Neighborhood\n",
        "data_polisi_detroit = list(filter(lambda x: x['zip_code'] != '' and x['neighborhood'] != '', data_polisi_detroit))\n",
        "\n",
        "# Fungsi lambda untuk menghitung total waktu respons, waktu pengiriman, dan total waktu\n",
        "total_respons = reduce(lambda x, y: x + float(y['totalresponsetime']) if y['totalresponsetime'] else x, data_polisi_detroit, 0)\n",
        "total_pengiriman = reduce(lambda x, y: x + float(y['dispatchtime']) if y['dispatchtime'] else x, data_polisi_detroit, 0)\n",
        "total_waktu = reduce(lambda x, y: x + float(y['totaltime']) if y['totaltime'] else x, data_polisi_detroit, 0)\n",
        "\n",
        "# Hitung rata-rata waktu respons, waktu pengiriman, dan total waktu\n",
        "rata_respons = total_respons / len(data_polisi_detroit)\n",
        "rata_pengiriman = total_pengiriman / len(data_polisi_detroit)\n",
        "rata_waktu = total_waktu / len(data_polisi_detroit)\n",
        "\n",
        "# Tampilkan hasil\n",
        "print(\"Total waktu respons rata-rata untuk kepolisian Detroit:\", rata_respons)\n",
        "print(\"Total waktu pengiriman rata-rata untuk kepolisian Detroit:\", rata_pengiriman)\n",
        "print(\"Total waktu rata-rata untuk kepolisian Detroit:\", rata_waktu)"
      ],
      "metadata": {
        "colab": {
          "base_uri": "https://localhost:8080/"
        },
        "id": "z2RESIILw9HM",
        "outputId": "74a1e322-07f9-458b-eabd-ddba5cc3ae9a"
      },
      "execution_count": null,
      "outputs": [
        {
          "output_type": "stream",
          "name": "stdout",
          "text": [
            "Total waktu respons rata-rata untuk kepolisian Detroit: 8.023254124066208\n",
            "Total waktu pengiriman rata-rata untuk kepolisian Detroit: 4.768282297748636\n",
            "Total waktu rata-rata untuk kepolisian Detroit: 28.634880548686127\n"
          ]
        }
      ]
    },
    {
      "cell_type": "code",
      "source": [
        "#Bagian 2: Modelkan Neighborhood Samples\n",
        "\n",
        "from functools import reduce\n",
        "\n",
        "# Fungsi lambda untuk memisahkan data berdasarkan neighborhood\n",
        "separate_neighborhood = lambda neighborhood, data: list(filter(lambda x: x[\"neighborhood\"] == neighborhood, data))\n",
        "\n",
        "# Fungsi lambda untuk menghitung total waktu respons rata-rata\n",
        "calculate_avg_response_time = lambda acc, item: acc + (float(item[\"totalresponsetime\"]) if item[\"totalresponsetime\"] else 0) / len(data_polisi_detroit)\n",
        "\n",
        "# Fungsi lambda untuk menghitung total waktu pengiriman rata-rata\n",
        "calculate_avg_delivery_time = lambda acc, item: acc + (float(item[\"traveltime\"]) if item[\"traveltime\"] else 0) / len(data_polisi_detroit)\n",
        "\n",
        "# Fungsi lambda untuk menghitung total waktu rata-rata\n",
        "calculate_avg_total_time = lambda acc, item: acc + ((float(item[\"totalresponsetime\"]) if item[\"totalresponsetime\"] else 0) + (float(item[\"traveltime\"]) if item[\"traveltime\"] else 0)) / len(data_polisi_detroit)\n",
        "\n",
        "# Memisahkan data berdasarkan neighborhood\n",
        "neighborhoods_data = list(map(lambda x: separate_neighborhood(x, data_polisi_detroit), set(map(lambda x: x[\"neighborhood\"], data_polisi_detroit))))\n",
        "\n",
        "# Menghitung total waktu respons rata-rata, waktu pengiriman rata-rata, dan total waktu rata-rata untuk setiap neighborhood\n",
        "results = []\n",
        "for neighborhood_data in neighborhoods_data:\n",
        "    avg_response_time = round(reduce(calculate_avg_response_time, neighborhood_data, 0), 2)\n",
        "    avg_delivery_time = round(reduce(calculate_avg_delivery_time, neighborhood_data, 0), 2)\n",
        "    avg_total_time = round(reduce(calculate_avg_total_time, neighborhood_data, 0), 2)\n",
        "    results.append({\n",
        "        \"neighborhood\": neighborhood_data[0][\"neighborhood\"],\n",
        "        \"avg_response_time\": avg_response_time,\n",
        "        \"avg_delivery_time\": avg_delivery_time,\n",
        "        \"avg_total_time\": avg_total_time\n",
        "    })\n",
        "\n",
        "# Menambahkan data populasi untuk semua Detroit ke dalam daftar gabungan\n",
        "results.append({\"neighborhood\": \"Detroit\", \"population\": \"Data populasi Detroit\"})\n",
        "\n",
        "# Output hasil\n",
        "print(results)"
      ],
      "metadata": {
        "colab": {
          "base_uri": "https://localhost:8080/"
        },
        "id": "Y-RMy7UwwvQU",
        "outputId": "9f71cfa9-ff93-4323-85e2-67a4096df7f1"
      },
      "execution_count": 9,
      "outputs": [
        {
          "output_type": "stream",
          "name": "stdout",
          "text": [
            "[{'neighborhood': '', 'avg_response_time': 0.15, 'avg_delivery_time': 0.04, 'avg_total_time': 0.19}, {'neighborhood': 'Penrose', 'avg_response_time': 0.01, 'avg_delivery_time': 0.0, 'avg_total_time': 0.01}, {'neighborhood': 'Douglass', 'avg_response_time': 0.01, 'avg_delivery_time': 0.0, 'avg_total_time': 0.01}, {'neighborhood': 'Rouge Park', 'avg_response_time': 0.0, 'avg_delivery_time': 0.0, 'avg_total_time': 0.0}, {'neighborhood': 'Minock Park', 'avg_response_time': 0.02, 'avg_delivery_time': 0.0, 'avg_total_time': 0.02}, {'neighborhood': 'Dexter-Linwood', 'avg_response_time': 0.15, 'avg_delivery_time': 0.04, 'avg_total_time': 0.19}, {'neighborhood': 'Gratiot Woods', 'avg_response_time': 0.06, 'avg_delivery_time': 0.0, 'avg_total_time': 0.06}, {'neighborhood': 'Tri-Point', 'avg_response_time': 0.0, 'avg_delivery_time': 0.0, 'avg_total_time': 0.0}, {'neighborhood': 'Palmer Woods', 'avg_response_time': 0.01, 'avg_delivery_time': 0.0, 'avg_total_time': 0.02}, {'neighborhood': 'East English Village', 'avg_response_time': 0.04, 'avg_delivery_time': 0.01, 'avg_total_time': 0.04}, {'neighborhood': 'Midtown', 'avg_response_time': 0.16, 'avg_delivery_time': 0.05, 'avg_total_time': 0.21}, {'neighborhood': 'Nortown', 'avg_response_time': 0.06, 'avg_delivery_time': 0.01, 'avg_total_time': 0.07}, {'neighborhood': 'We Care Community', 'avg_response_time': 0.06, 'avg_delivery_time': 0.01, 'avg_total_time': 0.07}, {'neighborhood': 'Hubbard Farms', 'avg_response_time': 0.0, 'avg_delivery_time': 0.0, 'avg_total_time': 0.01}, {'neighborhood': 'Barton-McFarland', 'avg_response_time': 0.21, 'avg_delivery_time': 0.04, 'avg_total_time': 0.25}, {'neighborhood': 'Riverbend', 'avg_response_time': 0.03, 'avg_delivery_time': 0.01, 'avg_total_time': 0.03}, {'neighborhood': 'North Rosedale Park', 'avg_response_time': 0.02, 'avg_delivery_time': 0.01, 'avg_total_time': 0.03}, {'neighborhood': 'Chadsey Condon', 'avg_response_time': 0.04, 'avg_delivery_time': 0.01, 'avg_total_time': 0.05}, {'neighborhood': 'Garden Homes', 'avg_response_time': 0.03, 'avg_delivery_time': 0.0, 'avg_total_time': 0.03}, {'neighborhood': 'Petoskey-Otsego', 'avg_response_time': 0.03, 'avg_delivery_time': 0.01, 'avg_total_time': 0.03}, {'neighborhood': 'Corktown', 'avg_response_time': 0.04, 'avg_delivery_time': 0.02, 'avg_total_time': 0.06}, {'neighborhood': 'Joy Community', 'avg_response_time': 0.12, 'avg_delivery_time': 0.04, 'avg_total_time': 0.15}, {'neighborhood': 'Von Steuben', 'avg_response_time': 0.05, 'avg_delivery_time': 0.01, 'avg_total_time': 0.06}, {'neighborhood': 'Poletown East', 'avg_response_time': 0.05, 'avg_delivery_time': 0.03, 'avg_total_time': 0.07}, {'neighborhood': 'Cornerstone Village', 'avg_response_time': 0.13, 'avg_delivery_time': 0.04, 'avg_total_time': 0.17}, {'neighborhood': 'New Center', 'avg_response_time': 0.01, 'avg_delivery_time': 0.0, 'avg_total_time': 0.01}, {'neighborhood': 'Garden View', 'avg_response_time': 0.03, 'avg_delivery_time': 0.0, 'avg_total_time': 0.03}, {'neighborhood': 'Grand River-St Marys', 'avg_response_time': 0.03, 'avg_delivery_time': 0.01, 'avg_total_time': 0.04}, {'neighborhood': 'Castle Rouge', 'avg_response_time': 0.01, 'avg_delivery_time': 0.0, 'avg_total_time': 0.01}, {'neighborhood': 'Cadillac Community', 'avg_response_time': 0.03, 'avg_delivery_time': 0.0, 'avg_total_time': 0.03}, {'neighborhood': 'Sherwood', 'avg_response_time': 0.01, 'avg_delivery_time': 0.0, 'avg_total_time': 0.01}, {'neighborhood': 'Pembroke', 'avg_response_time': 0.02, 'avg_delivery_time': 0.01, 'avg_total_time': 0.03}, {'neighborhood': 'North Campau', 'avg_response_time': 0.01, 'avg_delivery_time': 0.0, 'avg_total_time': 0.02}, {'neighborhood': 'Oak Grove', 'avg_response_time': 0.04, 'avg_delivery_time': 0.01, 'avg_total_time': 0.04}, {'neighborhood': 'Wildemere Park', 'avg_response_time': 0.03, 'avg_delivery_time': 0.0, 'avg_total_time': 0.03}, {'neighborhood': 'East Canfield', 'avg_response_time': 0.0, 'avg_delivery_time': 0.0, 'avg_total_time': 0.0}, {'neighborhood': 'Farwell', 'avg_response_time': 0.01, 'avg_delivery_time': 0.01, 'avg_total_time': 0.02}, {'neighborhood': 'Belmont', 'avg_response_time': 0.01, 'avg_delivery_time': 0.0, 'avg_total_time': 0.01}, {'neighborhood': 'LaSalle College Park', 'avg_response_time': 0.03, 'avg_delivery_time': 0.0, 'avg_total_time': 0.04}, {'neighborhood': 'Medbury Park', 'avg_response_time': 0.0, 'avg_delivery_time': 0.0, 'avg_total_time': 0.0}, {'neighborhood': 'Islandview', 'avg_response_time': 0.07, 'avg_delivery_time': 0.02, 'avg_total_time': 0.1}, {'neighborhood': 'Medical Center', 'avg_response_time': 0.07, 'avg_delivery_time': 0.01, 'avg_total_time': 0.08}, {'neighborhood': 'Franklin', 'avg_response_time': 0.09, 'avg_delivery_time': 0.01, 'avg_total_time': 0.11}, {'neighborhood': 'Downtown', 'avg_response_time': 0.23, 'avg_delivery_time': 0.06, 'avg_total_time': 0.29}, {'neighborhood': 'Russell Woods', 'avg_response_time': 0.03, 'avg_delivery_time': 0.01, 'avg_total_time': 0.04}, {'neighborhood': 'Buffalo Charles', 'avg_response_time': 0.03, 'avg_delivery_time': 0.01, 'avg_total_time': 0.04}, {'neighborhood': 'Oakman Blvd Community', 'avg_response_time': 0.16, 'avg_delivery_time': 0.05, 'avg_total_time': 0.2}, {'neighborhood': 'Joy-Schaefer', 'avg_response_time': 0.03, 'avg_delivery_time': 0.0, 'avg_total_time': 0.04}, {'neighborhood': 'Five Points', 'avg_response_time': 0.03, 'avg_delivery_time': 0.01, 'avg_total_time': 0.04}, {'neighborhood': 'Pershing', 'avg_response_time': 0.02, 'avg_delivery_time': 0.0, 'avg_total_time': 0.02}, {'neighborhood': 'Russell Industrial', 'avg_response_time': 0.0, 'avg_delivery_time': 0.0, 'avg_total_time': 0.0}, {'neighborhood': 'Gold Coast', 'avg_response_time': 0.06, 'avg_delivery_time': 0.01, 'avg_total_time': 0.07}, {'neighborhood': 'Regent Park', 'avg_response_time': 0.08, 'avg_delivery_time': 0.03, 'avg_total_time': 0.1}, {'neighborhood': 'Mexicantown', 'avg_response_time': 0.0, 'avg_delivery_time': 0.0, 'avg_total_time': 0.0}, {'neighborhood': 'Campau/Banglatown', 'avg_response_time': 0.01, 'avg_delivery_time': 0.01, 'avg_total_time': 0.02}, {'neighborhood': 'Wayne State', 'avg_response_time': 0.03, 'avg_delivery_time': 0.01, 'avg_total_time': 0.05}, {'neighborhood': 'Plymouth-Hubbell', 'avg_response_time': 0.17, 'avg_delivery_time': 0.02, 'avg_total_time': 0.19}, {'neighborhood': 'Moross-Morang', 'avg_response_time': 0.11, 'avg_delivery_time': 0.02, 'avg_total_time': 0.13}, {'neighborhood': 'Michigan-Martin', 'avg_response_time': 0.0, 'avg_delivery_time': 0.0, 'avg_total_time': 0.0}, {'neighborhood': 'Marina District', 'avg_response_time': 0.0, 'avg_delivery_time': 0.0, 'avg_total_time': 0.0}, {'neighborhood': 'Schaefer 7/8 Lodge', 'avg_response_time': 0.04, 'avg_delivery_time': 0.01, 'avg_total_time': 0.06}, {'neighborhood': 'South of Six', 'avg_response_time': 0.0, 'avg_delivery_time': 0.0, 'avg_total_time': 0.01}, {'neighborhood': 'Miller Grove', 'avg_response_time': 0.02, 'avg_delivery_time': 0.0, 'avg_total_time': 0.02}, {'neighborhood': 'Davison', 'avg_response_time': 0.05, 'avg_delivery_time': 0.02, 'avg_total_time': 0.07}, {'neighborhood': 'Boston Edison', 'avg_response_time': 0.01, 'avg_delivery_time': 0.0, 'avg_total_time': 0.01}, {'neighborhood': 'Northwest Community', 'avg_response_time': 0.0, 'avg_delivery_time': 0.0, 'avg_total_time': 0.01}, {'neighborhood': 'Greektown', 'avg_response_time': 0.02, 'avg_delivery_time': 0.01, 'avg_total_time': 0.03}, {'neighborhood': 'Yorkshire Woods', 'avg_response_time': 0.05, 'avg_delivery_time': 0.01, 'avg_total_time': 0.06}, {'neighborhood': 'Palmer Park', 'avg_response_time': 0.04, 'avg_delivery_time': 0.01, 'avg_total_time': 0.05}, {'neighborhood': 'Lafayette Park', 'avg_response_time': 0.02, 'avg_delivery_time': 0.01, 'avg_total_time': 0.03}, {'neighborhood': 'Pilgrim Village', 'avg_response_time': 0.05, 'avg_delivery_time': 0.01, 'avg_total_time': 0.06}, {'neighborhood': 'Evergreen Lahser 7/8', 'avg_response_time': 0.07, 'avg_delivery_time': 0.02, 'avg_total_time': 0.09}, {'neighborhood': 'Elijah McCoy', 'avg_response_time': 0.02, 'avg_delivery_time': 0.0, 'avg_total_time': 0.02}, {'neighborhood': 'Henry Ford', 'avg_response_time': 0.05, 'avg_delivery_time': 0.01, 'avg_total_time': 0.06}, {'neighborhood': 'Detroit Golf', 'avg_response_time': 0.01, 'avg_delivery_time': 0.01, 'avg_total_time': 0.01}, {'neighborhood': 'Greenfield Park', 'avg_response_time': 0.04, 'avg_delivery_time': 0.01, 'avg_total_time': 0.05}, {'neighborhood': 'LaSalle Gardens', 'avg_response_time': 0.03, 'avg_delivery_time': 0.0, 'avg_total_time': 0.03}, {'neighborhood': 'Historic Atkinson', 'avg_response_time': 0.0, 'avg_delivery_time': 0.0, 'avg_total_time': 0.01}, {'neighborhood': 'Green Acres', 'avg_response_time': 0.0, 'avg_delivery_time': 0.0, 'avg_total_time': 0.01}, {'neighborhood': 'Schulze', 'avg_response_time': 0.13, 'avg_delivery_time': 0.03, 'avg_total_time': 0.16}, {'neighborhood': 'North LaSalle', 'avg_response_time': 0.01, 'avg_delivery_time': 0.01, 'avg_total_time': 0.02}, {'neighborhood': 'Mapleridge', 'avg_response_time': 0.09, 'avg_delivery_time': 0.03, 'avg_total_time': 0.12}, {'neighborhood': 'Jefferson Chalmers', 'avg_response_time': 0.04, 'avg_delivery_time': 0.02, 'avg_total_time': 0.06}, {'neighborhood': 'Jeffries', 'avg_response_time': 0.0, 'avg_delivery_time': 0.0, 'avg_total_time': 0.0}, {'neighborhood': 'Brightmoor', 'avg_response_time': 0.23, 'avg_delivery_time': 0.06, 'avg_total_time': 0.29}, {'neighborhood': 'Paveway', 'avg_response_time': 0.0, 'avg_delivery_time': 0.0, 'avg_total_time': 0.01}, {'neighborhood': 'Outer Drive-Hayes', 'avg_response_time': 0.12, 'avg_delivery_time': 0.04, 'avg_total_time': 0.16}, {'neighborhood': 'New Center Commons', 'avg_response_time': 0.01, 'avg_delivery_time': 0.0, 'avg_total_time': 0.01}, {'neighborhood': 'West End', 'avg_response_time': 0.04, 'avg_delivery_time': 0.01, 'avg_total_time': 0.05}, {'neighborhood': 'Fiskhorn', 'avg_response_time': 0.04, 'avg_delivery_time': 0.01, 'avg_total_time': 0.05}, {'neighborhood': 'Greenfield', 'avg_response_time': 0.09, 'avg_delivery_time': 0.02, 'avg_total_time': 0.12}, {'neighborhood': 'Aviation Sub', 'avg_response_time': 0.07, 'avg_delivery_time': 0.01, 'avg_total_time': 0.08}, {'neighborhood': 'Midwest', 'avg_response_time': 0.09, 'avg_delivery_time': 0.04, 'avg_total_time': 0.13}, {'neighborhood': 'Virginia Park', 'avg_response_time': 0.0, 'avg_delivery_time': 0.0, 'avg_total_time': 0.01}, {'neighborhood': 'Bethune Community', 'avg_response_time': 0.23, 'avg_delivery_time': 0.08, 'avg_total_time': 0.31}, {'neighborhood': 'Westwood Park', 'avg_response_time': 0.03, 'avg_delivery_time': 0.0, 'avg_total_time': 0.03}, {'neighborhood': 'Forest Park', 'avg_response_time': 0.02, 'avg_delivery_time': 0.01, 'avg_total_time': 0.03}, {'neighborhood': 'Airport Sub', 'avg_response_time': 0.1, 'avg_delivery_time': 0.03, 'avg_total_time': 0.13}, {'neighborhood': 'Krainz Woods', 'avg_response_time': 0.03, 'avg_delivery_time': 0.01, 'avg_total_time': 0.04}, {'neighborhood': 'Bagley', 'avg_response_time': 0.05, 'avg_delivery_time': 0.01, 'avg_total_time': 0.07}, {'neighborhood': 'Southfield Plymouth', 'avg_response_time': 0.0, 'avg_delivery_time': 0.0, 'avg_total_time': 0.01}, {'neighborhood': 'Rosedale Park', 'avg_response_time': 0.03, 'avg_delivery_time': 0.01, 'avg_total_time': 0.04}, {'neighborhood': 'State Fair', 'avg_response_time': 0.0, 'avg_delivery_time': 0.0, 'avg_total_time': 0.01}, {'neighborhood': 'Conner Creek', 'avg_response_time': 0.07, 'avg_delivery_time': 0.03, 'avg_total_time': 0.1}, {'neighborhood': 'Wade', 'avg_response_time': 0.03, 'avg_delivery_time': 0.01, 'avg_total_time': 0.03}, {'neighborhood': 'Martin Park', 'avg_response_time': 0.02, 'avg_delivery_time': 0.01, 'avg_total_time': 0.03}, {'neighborhood': 'Crary/St Marys', 'avg_response_time': 0.06, 'avg_delivery_time': 0.02, 'avg_total_time': 0.08}, {'neighborhood': 'Grixdale Farms', 'avg_response_time': 0.02, 'avg_delivery_time': 0.01, 'avg_total_time': 0.02}, {'neighborhood': 'Chandler Park-Chalmers', 'avg_response_time': 0.01, 'avg_delivery_time': 0.0, 'avg_total_time': 0.01}, {'neighborhood': 'Chalfonte', 'avg_response_time': 0.05, 'avg_delivery_time': 0.01, 'avg_total_time': 0.06}, {'neighborhood': 'West Side Industrial', 'avg_response_time': 0.01, 'avg_delivery_time': 0.0, 'avg_total_time': 0.01}, {'neighborhood': 'Gratiot Town/Ketterring', 'avg_response_time': 0.04, 'avg_delivery_time': 0.01, 'avg_total_time': 0.05}, {'neighborhood': 'Grandmont #1', 'avg_response_time': 0.03, 'avg_delivery_time': 0.01, 'avg_total_time': 0.04}, {'neighborhood': 'Springwells', 'avg_response_time': 0.12, 'avg_delivery_time': 0.04, 'avg_total_time': 0.16}, {'neighborhood': 'Claytown', 'avg_response_time': 0.17, 'avg_delivery_time': 0.05, 'avg_total_time': 0.22}, {'neighborhood': 'Sherwood Forest', 'avg_response_time': 0.0, 'avg_delivery_time': 0.0, 'avg_total_time': 0.0}, {'neighborhood': 'McDowell', 'avg_response_time': 0.02, 'avg_delivery_time': 0.01, 'avg_total_time': 0.02}, {'neighborhood': 'The Eye', 'avg_response_time': 0.03, 'avg_delivery_time': 0.01, 'avg_total_time': 0.04}, {'neighborhood': 'Tech Town', 'avg_response_time': 0.01, 'avg_delivery_time': 0.01, 'avg_total_time': 0.02}, {'neighborhood': 'Nardin Park', 'avg_response_time': 0.05, 'avg_delivery_time': 0.02, 'avg_total_time': 0.07}, {'neighborhood': 'Nolan', 'avg_response_time': 0.13, 'avg_delivery_time': 0.04, 'avg_total_time': 0.16}, {'neighborhood': 'Conner Creek Industrial', 'avg_response_time': 0.03, 'avg_delivery_time': 0.01, 'avg_total_time': 0.04}, {'neighborhood': 'Old Redford', 'avg_response_time': 0.0, 'avg_delivery_time': 0.0, 'avg_total_time': 0.0}, {'neighborhood': 'Oakwood Heights', 'avg_response_time': 0.0, 'avg_delivery_time': 0.0, 'avg_total_time': 0.0}, {'neighborhood': 'Central Southwest', 'avg_response_time': 0.07, 'avg_delivery_time': 0.03, 'avg_total_time': 0.1}, {'neighborhood': 'Ravendale', 'avg_response_time': 0.02, 'avg_delivery_time': 0.01, 'avg_total_time': 0.02}, {'neighborhood': 'Pride Area Community', 'avg_response_time': 0.02, 'avg_delivery_time': 0.0, 'avg_total_time': 0.02}, {'neighborhood': 'Core City', 'avg_response_time': 0.02, 'avg_delivery_time': 0.0, 'avg_total_time': 0.02}, {'neighborhood': 'Joseph Berry Sub', 'avg_response_time': 0.0, 'avg_delivery_time': 0.0, 'avg_total_time': 0.0}, {'neighborhood': 'Cadillac Heights', 'avg_response_time': 0.02, 'avg_delivery_time': 0.01, 'avg_total_time': 0.03}, {'neighborhood': 'East Village', 'avg_response_time': 0.11, 'avg_delivery_time': 0.02, 'avg_total_time': 0.13}, {'neighborhood': \"O'Hair Park\", 'avg_response_time': 0.1, 'avg_delivery_time': 0.01, 'avg_total_time': 0.12}, {'neighborhood': 'Warrendale', 'avg_response_time': 0.28, 'avg_delivery_time': 0.09, 'avg_total_time': 0.38}, {'neighborhood': 'Evergreen-Outer Drive', 'avg_response_time': 0.04, 'avg_delivery_time': 0.02, 'avg_total_time': 0.07}, {'neighborhood': 'Plymouth-I96', 'avg_response_time': 0.01, 'avg_delivery_time': 0.0, 'avg_total_time': 0.02}, {'neighborhood': 'Blackstone Park', 'avg_response_time': 0.02, 'avg_delivery_time': 0.01, 'avg_total_time': 0.02}, {'neighborhood': 'Mount Olivet', 'avg_response_time': 0.06, 'avg_delivery_time': 0.02, 'avg_total_time': 0.08}, {'neighborhood': 'Far West Detroit', 'avg_response_time': 0.05, 'avg_delivery_time': 0.01, 'avg_total_time': 0.07}, {'neighborhood': 'Fitzgerald/Marygrove', 'avg_response_time': 0.11, 'avg_delivery_time': 0.03, 'avg_total_time': 0.13}, {'neighborhood': 'Franklin Park', 'avg_response_time': 0.15, 'avg_delivery_time': 0.03, 'avg_total_time': 0.19}, {'neighborhood': 'Belle Isle', 'avg_response_time': 0.0, 'avg_delivery_time': 0.0, 'avg_total_time': 0.0}, {'neighborhood': 'Seven Mile Lodge', 'avg_response_time': 0.01, 'avg_delivery_time': 0.01, 'avg_total_time': 0.01}, {'neighborhood': 'North End', 'avg_response_time': 0.04, 'avg_delivery_time': 0.01, 'avg_total_time': 0.05}, {'neighborhood': 'Greenfield-Grand River', 'avg_response_time': 0.02, 'avg_delivery_time': 0.01, 'avg_total_time': 0.02}, {'neighborhood': 'Milwaukee Junction', 'avg_response_time': 0.01, 'avg_delivery_time': 0.01, 'avg_total_time': 0.02}, {'neighborhood': 'McDougall-Hunt', 'avg_response_time': 0.05, 'avg_delivery_time': 0.01, 'avg_total_time': 0.07}, {'neighborhood': 'Gratiot-Grand', 'avg_response_time': 0.04, 'avg_delivery_time': 0.02, 'avg_total_time': 0.06}, {'neighborhood': 'Fox Creek', 'avg_response_time': 0.04, 'avg_delivery_time': 0.01, 'avg_total_time': 0.05}, {'neighborhood': 'Eliza Howell', 'avg_response_time': 0.07, 'avg_delivery_time': 0.01, 'avg_total_time': 0.08}, {'neighborhood': 'Eastern Market', 'avg_response_time': 0.01, 'avg_delivery_time': 0.0, 'avg_total_time': 0.01}, {'neighborhood': 'Chandler Park', 'avg_response_time': 0.02, 'avg_delivery_time': 0.01, 'avg_total_time': 0.04}, {'neighborhood': 'Woodbridge', 'avg_response_time': 0.02, 'avg_delivery_time': 0.01, 'avg_total_time': 0.03}, {'neighborhood': 'Mohican Regent', 'avg_response_time': 0.03, 'avg_delivery_time': 0.01, 'avg_total_time': 0.04}, {'neighborhood': 'West Outer Drive', 'avg_response_time': 0.01, 'avg_delivery_time': 0.0, 'avg_total_time': 0.01}, {'neighborhood': 'Riverdale', 'avg_response_time': 0.01, 'avg_delivery_time': 0.0, 'avg_total_time': 0.01}, {'neighborhood': 'Schoolcraft Southfield', 'avg_response_time': 0.05, 'avg_delivery_time': 0.02, 'avg_total_time': 0.07}, {'neighborhood': 'Herman Kiefer', 'avg_response_time': 0.01, 'avg_delivery_time': 0.0, 'avg_total_time': 0.02}, {'neighborhood': 'College Park', 'avg_response_time': 0.12, 'avg_delivery_time': 0.03, 'avg_total_time': 0.15}, {'neighborhood': 'Piety Hill', 'avg_response_time': 0.03, 'avg_delivery_time': 0.0, 'avg_total_time': 0.03}, {'neighborhood': 'Arden Park', 'avg_response_time': 0.0, 'avg_delivery_time': 0.0, 'avg_total_time': 0.0}, {'neighborhood': 'Greenwich', 'avg_response_time': 0.01, 'avg_delivery_time': 0.0, 'avg_total_time': 0.01}, {'neighborhood': 'Brewster Homes', 'avg_response_time': 0.01, 'avg_delivery_time': 0.01, 'avg_total_time': 0.02}, {'neighborhood': 'Hawthorne Park', 'avg_response_time': 0.03, 'avg_delivery_time': 0.0, 'avg_total_time': 0.03}, {'neighborhood': 'Hubbell-Lyndon', 'avg_response_time': 0.08, 'avg_delivery_time': 0.02, 'avg_total_time': 0.1}, {'neighborhood': 'Jamison', 'avg_response_time': 0.04, 'avg_delivery_time': 0.0, 'avg_total_time': 0.05}, {'neighborhood': 'San Bernardo', 'avg_response_time': 0.02, 'avg_delivery_time': 0.0, 'avg_total_time': 0.02}, {'neighborhood': 'McNichols Evergreen', 'avg_response_time': 0.01, 'avg_delivery_time': 0.0, 'avg_total_time': 0.01}, {'neighborhood': 'Davison-Schoolcraft', 'avg_response_time': 0.01, 'avg_delivery_time': 0.0, 'avg_total_time': 0.02}, {'neighborhood': 'Weatherby', 'avg_response_time': 0.04, 'avg_delivery_time': 0.01, 'avg_total_time': 0.05}, {'neighborhood': 'Conant Gardens', 'avg_response_time': 0.01, 'avg_delivery_time': 0.0, 'avg_total_time': 0.01}, {'neighborhood': 'Seven Mile-Rouge', 'avg_response_time': 0.02, 'avg_delivery_time': 0.01, 'avg_total_time': 0.02}, {'neighborhood': 'Carbon Works', 'avg_response_time': 0.0, 'avg_delivery_time': 0.0, 'avg_total_time': 0.01}, {'neighborhood': 'West Village', 'avg_response_time': 0.03, 'avg_delivery_time': 0.01, 'avg_total_time': 0.04}, {'neighborhood': 'Grandmont', 'avg_response_time': 0.03, 'avg_delivery_time': 0.01, 'avg_total_time': 0.03}, {'neighborhood': 'Rivertown', 'avg_response_time': 0.01, 'avg_delivery_time': 0.0, 'avg_total_time': 0.02}, {'neighborhood': 'University District', 'avg_response_time': 0.02, 'avg_delivery_time': 0.01, 'avg_total_time': 0.03}, {'neighborhood': 'Gratiot-Findlay', 'avg_response_time': 0.01, 'avg_delivery_time': 0.0, 'avg_total_time': 0.01}, {'neighborhood': 'West Virginia Park', 'avg_response_time': 0.0, 'avg_delivery_time': 0.0, 'avg_total_time': 0.0}, {'neighborhood': 'Warren Ave Community', 'avg_response_time': 0.13, 'avg_delivery_time': 0.03, 'avg_total_time': 0.16}, {'neighborhood': 'Grand River-I96', 'avg_response_time': 0.12, 'avg_delivery_time': 0.02, 'avg_total_time': 0.13}, {'neighborhood': 'Denby', 'avg_response_time': 0.05, 'avg_delivery_time': 0.01, 'avg_total_time': 0.07}, {'neighborhood': 'North Corktown', 'avg_response_time': 0.02, 'avg_delivery_time': 0.01, 'avg_total_time': 0.03}, {'neighborhood': 'Butler', 'avg_response_time': 0.04, 'avg_delivery_time': 0.0, 'avg_total_time': 0.04}, {'neighborhood': 'Berg-Lahser', 'avg_response_time': 0.05, 'avg_delivery_time': 0.0, 'avg_total_time': 0.05}, {'neighborhood': 'NW Goldberg', 'avg_response_time': 0.06, 'avg_delivery_time': 0.02, 'avg_total_time': 0.07}, {'neighborhood': 'Fitzgerald', 'avg_response_time': 0.01, 'avg_delivery_time': 0.0, 'avg_total_time': 0.01}, {'neighborhood': 'Hubbard Richard', 'avg_response_time': 0.0, 'avg_delivery_time': 0.0, 'avg_total_time': 0.0}, {'neighborhood': 'Pingree Park', 'avg_response_time': 0.0, 'avg_delivery_time': 0.0, 'avg_total_time': 0.0}, {'neighborhood': 'Gateway Community', 'avg_response_time': 0.01, 'avg_delivery_time': 0.01, 'avg_total_time': 0.02}, {'neighborhood': 'Eden Gardens', 'avg_response_time': 0.04, 'avg_delivery_time': 0.01, 'avg_total_time': 0.04}, {'neighborhood': 'Harmony Village', 'avg_response_time': 0.07, 'avg_delivery_time': 0.02, 'avg_total_time': 0.09}, {'neighborhood': 'Morningside', 'avg_response_time': 0.13, 'avg_delivery_time': 0.03, 'avg_total_time': 0.15}, {'neighborhood': 'Northeast Central District', 'avg_response_time': 0.02, 'avg_delivery_time': 0.0, 'avg_total_time': 0.02}, {'neighborhood': 'Delray', 'avg_response_time': 0.01, 'avg_delivery_time': 0.0, 'avg_total_time': 0.01}, {'neighborhood': 'Brush Park', 'avg_response_time': 0.04, 'avg_delivery_time': 0.02, 'avg_total_time': 0.06}, {'neighborhood': 'Indian Village', 'avg_response_time': 0.0, 'avg_delivery_time': 0.0, 'avg_total_time': 0.01}, {'neighborhood': 'Melvern Hill', 'avg_response_time': 0.0, 'avg_delivery_time': 0.0, 'avg_total_time': 0.0}, {'neighborhood': 'Littlefield Community', 'avg_response_time': 0.01, 'avg_delivery_time': 0.0, 'avg_total_time': 0.01}, {'neighborhood': 'Elmwood Park', 'avg_response_time': 0.06, 'avg_delivery_time': 0.01, 'avg_total_time': 0.07}, {'neighborhood': 'Boynton', 'avg_response_time': 0.07, 'avg_delivery_time': 0.03, 'avg_total_time': 0.09}, {'neighborhood': 'Happy Homes', 'avg_response_time': 0.0, 'avg_delivery_time': 0.0, 'avg_total_time': 0.0}, {'neighborhood': 'Hubbell-Puritan', 'avg_response_time': 0.04, 'avg_delivery_time': 0.01, 'avg_total_time': 0.06}, {'neighborhood': 'Winship', 'avg_response_time': 0.1, 'avg_delivery_time': 0.03, 'avg_total_time': 0.13}, {'neighborhood': 'Cultural Center', 'avg_response_time': 0.03, 'avg_delivery_time': 0.01, 'avg_total_time': 0.04}, {'neighborhood': 'Grant', 'avg_response_time': 0.0, 'avg_delivery_time': 0.0, 'avg_total_time': 0.0}, {'neighborhood': 'Dexter-Fenkell', 'avg_response_time': 0.03, 'avg_delivery_time': 0.0, 'avg_total_time': 0.03}, {'neighborhood': 'Pulaski', 'avg_response_time': 0.1, 'avg_delivery_time': 0.03, 'avg_total_time': 0.14}, {'neighborhood': 'Holcomb Community', 'avg_response_time': 0.06, 'avg_delivery_time': 0.02, 'avg_total_time': 0.08}, {'neighborhood': 'Detroit', 'population': 'Data populasi Detroit'}]\n"
          ]
        }
      ]
    },
    {
      "cell_type": "code",
      "source": [
        "#Bagian 3: Buat file Output JSON\n",
        "\n",
        "# Simpan hasil dalam file JSON\n",
        "output_file_path = \"output.json\"\n",
        "with open(output_file_path, \"w\") as output_file:\n",
        "    json.dump(results, output_file, indent=4)\n",
        "\n",
        "print(\"Output telah disimpan dalam file:\", output_file_path)"
      ],
      "metadata": {
        "colab": {
          "base_uri": "https://localhost:8080/"
        },
        "id": "Clumjk7Qy7F6",
        "outputId": "b58347c7-0f89-47fa-cac3-5a76dc26ba63"
      },
      "execution_count": 11,
      "outputs": [
        {
          "output_type": "stream",
          "name": "stdout",
          "text": [
            "Output telah disimpan dalam file: output.json\n"
          ]
        }
      ]
    }
  ],
  "metadata": {
    "kernelspec": {
      "display_name": "Python 3",
      "language": "python",
      "name": "python3"
    },
    "language_info": {
      "name": "python",
      "version": "3.11.9"
    },
    "colab": {
      "provenance": []
    }
  },
  "nbformat": 4,
  "nbformat_minor": 0
}